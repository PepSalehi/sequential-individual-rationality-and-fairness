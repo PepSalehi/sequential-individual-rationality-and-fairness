{
 "cells": [
  {
   "cell_type": "code",
   "execution_count": 4,
   "metadata": {},
   "outputs": [
    {
     "name": "stdout",
     "output_type": "stream",
     "text": [
      "Run scenario:  sssd\n",
      "Run solver type closed_form\n",
      "Ex ante customer 1 IR should be nonneg for support_v[1]: 1.75\n",
      "ERROR term1 ub and lb are very close.\n",
      "term1 0 term1 -0.0002943289780511148 denominator 0.823529411765\n",
      "ERROR term1 ub and lb are very close.\n",
      "term1 0 term1 -0.0002943289780511148 denominator 0.823529411765\n",
      "ERROR term1 ub and lb are very close.\n",
      "term1 0 term1 -0.0002943289780511148 denominator 0.823529411765\n",
      "customer_j 2 active_customer_idxes [1]\n",
      "customer  1 : sd 2.5 delta_bar 0.3 k_delta_bar 0.85 wo_j 0 w_j 0.452952303175\n",
      "customer  2 : sd 2.33238075794 delta_bar 0.3 k_delta_bar 0.85 wo_j 0 w_j 0\n",
      "t_j 1 temp_route None\n",
      "Incremental profit for j: 0.478332074823 prices {'p_x': 1.2828094168659658, 'p_s': 1.0480595597551108}\n",
      "ERROR term1 ub and lb are very close.\n",
      "term1 0 term1 -0.0002943289780511148 denominator 0.823529411765\n",
      "prbx,probp,incrpex,incpp,expp 0.329012194051 0.142338595234 1.04957134107 0.934464084492 0.000357399469008\n",
      "scaled: p_x 0.55 p_s 0.449351829108\n",
      "OrderedDict([(1, {'s': array([0, 0]), 'd': array([ 2.5,  0. ]), 'sd': 2.5, 'delta_bar': 0.3, 'k_delta_bar': 0.85, 'actual_detour_wo_j': 0, 'is_bootstrapped': True, 'p_s': 0.375, 'p_x': 2.5, 'actual_detour_w_j': 0.45295230317524793}), (2, {'s': array([ 0.5,  1.2]), 'd': array([ 2.5,  0. ]), 'sd': 2.3323807579381199, 'delta_bar': 0.3, 'k_delta_bar': 0.85, 'actual_detour_wo_j': 0, 'is_bootstrapped': False, 'actual_detour_w_j': 0})])\n",
      "OrderedDict([(1, {'s': array([0, 0]), 'd': array([ 2.5,  0. ]), 'sd': 2.5, 'delta_bar': 0.3, 'k_delta_bar': 0.85, 'actual_detour_wo_j': 0.45295230317524793, 'is_bootstrapped': True, 'p_s': 0.375, 'p_x': 2.5}), (2, {'s': array([ 0.5,  1.2]), 'd': array([ 2.5,  0. ]), 'sd': 2.3323807579381199, 'delta_bar': 0.3, 'k_delta_bar': 0.85, 'actual_detour_wo_j': 0, 'is_bootstrapped': False, 'p_x': 1.2828094168659658, 'p_s': 1.0480595597551108})])\n"
     ]
    },
    {
     "ename": "AssertionError",
     "evalue": "",
     "output_type": "error",
     "traceback": [
      "\u001b[0;31m---------------------------------------------------------------------------\u001b[0m",
      "\u001b[0;31mAssertionError\u001b[0m                            Traceback (most recent call last)",
      "\u001b[0;32m~/Dropbox/mac/thinkpad/research1/sharecost17/raga_computation_local/simulation2/profit_optimization_core.py\u001b[0m in \u001b[0;36m<module>\u001b[0;34m()\u001b[0m\n\u001b[1;32m    552\u001b[0m \u001b[0;34m\u001b[0m\u001b[0m\n\u001b[1;32m    553\u001b[0m \u001b[0;34m\u001b[0m\u001b[0m\n\u001b[0;32m--> 554\u001b[0;31m                 \u001b[0mprices_j\u001b[0m\u001b[0;34m,\u001b[0m\u001b[0mincremental_profit_j_surface\u001b[0m \u001b[0;34m=\u001b[0m \u001b[0msolve_for_customer_j_wrapper\u001b[0m\u001b[0;34m(\u001b[0m\u001b[0mcustomers\u001b[0m\u001b[0;34m,\u001b[0m\u001b[0mparams\u001b[0m\u001b[0;34m)\u001b[0m\u001b[0;34m\u001b[0m\u001b[0m\n\u001b[0m\u001b[1;32m    555\u001b[0m \u001b[0;34m\u001b[0m\u001b[0m\n\u001b[1;32m    556\u001b[0m \u001b[0;34m\u001b[0m\u001b[0m\n",
      "\u001b[0;32m~/Dropbox/mac/thinkpad/research1/sharecost17/raga_computation_local/simulation2/profit_optimization_core.py\u001b[0m in \u001b[0;36msolve_for_customer_j_wrapper\u001b[0;34m(customers, params)\u001b[0m\n\u001b[1;32m    462\u001b[0m         \u001b[0mt_j\u001b[0m\u001b[0;34m,\u001b[0m\u001b[0mtemp_route\u001b[0m \u001b[0;34m=\u001b[0m \u001b[0mopt_customer_to_drop_after_j\u001b[0m\u001b[0;34m(\u001b[0m\u001b[0mcustomers\u001b[0m\u001b[0;34m)\u001b[0m\u001b[0;34m\u001b[0m\u001b[0m\n\u001b[1;32m    463\u001b[0m         \u001b[0mcustomers\u001b[0m \u001b[0;34m=\u001b[0m \u001b[0mset_actual_detours_w_j\u001b[0m\u001b[0;34m(\u001b[0m\u001b[0mcustomers\u001b[0m\u001b[0;34m,\u001b[0m\u001b[0mt_j\u001b[0m\u001b[0;34m)\u001b[0m\u001b[0;34m\u001b[0m\u001b[0m\n\u001b[0;32m--> 464\u001b[0;31m         \u001b[0;34m[\u001b[0m\u001b[0mincremental_profit_j\u001b[0m\u001b[0;34m,\u001b[0m\u001b[0mprices_j\u001b[0m\u001b[0;34m,\u001b[0m\u001b[0mincremental_profit_j_surface\u001b[0m\u001b[0;34m]\u001b[0m \u001b[0;34m=\u001b[0m \u001b[0mmaximize_incremental_profit_j\u001b[0m\u001b[0;34m(\u001b[0m\u001b[0mparams\u001b[0m\u001b[0;34m,\u001b[0m\u001b[0mcustomers\u001b[0m\u001b[0;34m)\u001b[0m\u001b[0;34m\u001b[0m\u001b[0m\n\u001b[0m\u001b[1;32m    465\u001b[0m \u001b[0;34m\u001b[0m\u001b[0m\n\u001b[1;32m    466\u001b[0m         \u001b[0mprint\u001b[0m\u001b[0;34m(\u001b[0m\u001b[0;34m'customer_j'\u001b[0m\u001b[0;34m,\u001b[0m\u001b[0mcustomer_j\u001b[0m\u001b[0;34m,\u001b[0m\u001b[0;34m'active_customer_idxes'\u001b[0m\u001b[0;34m,\u001b[0m\u001b[0mactive_customer_idxes\u001b[0m\u001b[0;34m)\u001b[0m\u001b[0;34m\u001b[0m\u001b[0m\n",
      "\u001b[0;32m~/Dropbox/mac/thinkpad/research1/sharecost17/raga_computation_local/simulation2/profit_optimization_core.py\u001b[0m in \u001b[0;36mmaximize_incremental_profit_j\u001b[0;34m(params, customers)\u001b[0m\n\u001b[1;32m    357\u001b[0m         \u001b[0mcustomers\u001b[0m \u001b[0;34m=\u001b[0m \u001b[0mset_actual_detours_w_j\u001b[0m\u001b[0;34m(\u001b[0m\u001b[0mcustomers\u001b[0m\u001b[0;34m,\u001b[0m\u001b[0mt_j\u001b[0m\u001b[0;34m)\u001b[0m\u001b[0;34m\u001b[0m\u001b[0m\n\u001b[1;32m    358\u001b[0m \u001b[0;34m\u001b[0m\u001b[0m\n\u001b[0;32m--> 359\u001b[0;31m         \u001b[0mprofit\u001b[0m \u001b[0;34m=\u001b[0m \u001b[0mget_incremental_profit_adding_j\u001b[0m\u001b[0;34m(\u001b[0m\u001b[0minitial_guess\u001b[0m\u001b[0;34m,\u001b[0m\u001b[0mcustomers\u001b[0m\u001b[0;34m,\u001b[0m\u001b[0mc_op\u001b[0m\u001b[0;34m,\u001b[0m\u001b[0msupport_v\u001b[0m\u001b[0;34m,\u001b[0m\u001b[0mdegradation_multiplier\u001b[0m\u001b[0;34m,\u001b[0m\u001b[0mEEPP_coeff\u001b[0m\u001b[0;34m,\u001b[0m\u001b[0mt_j\u001b[0m\u001b[0;34m,\u001b[0m\u001b[0mk_bar\u001b[0m\u001b[0;34m)\u001b[0m\u001b[0;34m\u001b[0m\u001b[0m\n\u001b[0m\u001b[1;32m    360\u001b[0m \u001b[0;34m\u001b[0m\u001b[0m\n\u001b[1;32m    361\u001b[0m         \u001b[0mprofit_surface\u001b[0m \u001b[0;34m=\u001b[0m \u001b[0;32mNone\u001b[0m\u001b[0;34m\u001b[0m\u001b[0m\n",
      "\u001b[0;32m~/Dropbox/mac/thinkpad/research1/sharecost17/raga_computation_local/simulation2/profit_optimization_core.py\u001b[0m in \u001b[0;36mget_incremental_profit_adding_j\u001b[0;34m(x, customers, c_op, support_v, degradation_multiplier, EEPP_coeff, t_j, k_bar)\u001b[0m\n\u001b[1;32m    240\u001b[0m         \u001b[0;31m# print('profit eval AA t_j',t_j)\u001b[0m\u001b[0;34m\u001b[0m\u001b[0;34m\u001b[0m\u001b[0m\n\u001b[1;32m    241\u001b[0m \u001b[0;34m\u001b[0m\u001b[0m\n\u001b[0;32m--> 242\u001b[0;31m         \u001b[0;34m(\u001b[0m\u001b[0mprob_exclusive_val\u001b[0m\u001b[0;34m,\u001b[0m\u001b[0mprob_pool_val\u001b[0m\u001b[0;34m,\u001b[0m\u001b[0mincr_profit_exclusive_val\u001b[0m\u001b[0;34m,\u001b[0m\u001b[0mincr_profit_pool_val\u001b[0m\u001b[0;34m,\u001b[0m\u001b[0mexpost_penalty_sum\u001b[0m\u001b[0;34m)\u001b[0m \u001b[0;34m=\u001b[0m \u001b[0mget_incremental_profit_adding_j_components\u001b[0m\u001b[0;34m(\u001b[0m\u001b[0mx\u001b[0m\u001b[0;34m,\u001b[0m\u001b[0mcustomers\u001b[0m\u001b[0;34m,\u001b[0m\u001b[0mc_op\u001b[0m\u001b[0;34m,\u001b[0m\u001b[0msupport_v\u001b[0m\u001b[0;34m,\u001b[0m\u001b[0mdegradation_multiplier\u001b[0m\u001b[0;34m,\u001b[0m\u001b[0mEEPP_coeff\u001b[0m\u001b[0;34m,\u001b[0m\u001b[0mt_j\u001b[0m\u001b[0;34m,\u001b[0m\u001b[0mk_bar\u001b[0m\u001b[0;34m)\u001b[0m\u001b[0;34m\u001b[0m\u001b[0m\n\u001b[0m\u001b[1;32m    243\u001b[0m \u001b[0;34m\u001b[0m\u001b[0m\n\u001b[1;32m    244\u001b[0m         \u001b[0;32mreturn\u001b[0m \u001b[0mprob_exclusive_val\u001b[0m\u001b[0;34m*\u001b[0m\u001b[0mincr_profit_exclusive_val\u001b[0m \u001b[0;34m+\u001b[0m \u001b[0mprob_pool_val\u001b[0m\u001b[0;34m*\u001b[0m\u001b[0mincr_profit_pool_val\u001b[0m\u001b[0;34m\u001b[0m\u001b[0m\n",
      "\u001b[0;32m~/Dropbox/mac/thinkpad/research1/sharecost17/raga_computation_local/simulation2/profit_optimization_core.py\u001b[0m in \u001b[0;36mget_incremental_profit_adding_j_components\u001b[0;34m(x, customers, c_op, support_v, degradation_multiplier, EEPP_coeff, t_j, k_bar)\u001b[0m\n\u001b[1;32m    262\u001b[0m         \u001b[0mexpost_penalty_sum\u001b[0m \u001b[0;34m=\u001b[0m \u001b[0;36m0\u001b[0m\u001b[0;34m\u001b[0m\u001b[0m\n\u001b[1;32m    263\u001b[0m         \u001b[0;32mfor\u001b[0m \u001b[0midx\u001b[0m \u001b[0;32min\u001b[0m \u001b[0mactive_customer_idxes\u001b[0m\u001b[0;34m:\u001b[0m\u001b[0;34m\u001b[0m\u001b[0m\n\u001b[0;32m--> 264\u001b[0;31m                 \u001b[0mexpost_penalty_sum\u001b[0m \u001b[0;34m+=\u001b[0m \u001b[0mget_incremental_penalty\u001b[0m\u001b[0;34m(\u001b[0m\u001b[0mx\u001b[0m\u001b[0;34m,\u001b[0m\u001b[0mcustomers\u001b[0m\u001b[0;34m,\u001b[0m\u001b[0midx\u001b[0m\u001b[0;34m,\u001b[0m\u001b[0mdegradation_multiplier\u001b[0m\u001b[0;34m,\u001b[0m\u001b[0msupport_v\u001b[0m\u001b[0;34m,\u001b[0m\u001b[0mk_bar\u001b[0m\u001b[0;34m)\u001b[0m\u001b[0;34m\u001b[0m\u001b[0m\n\u001b[0m\u001b[1;32m    265\u001b[0m \u001b[0;34m\u001b[0m\u001b[0m\n\u001b[1;32m    266\u001b[0m         \u001b[0mincr_profit_pool_val\u001b[0m \u001b[0;34m=\u001b[0m \u001b[0mp_s\u001b[0m\u001b[0;31m \u001b[0m\u001b[0;31m\\\u001b[0m\u001b[0;34m\u001b[0m\u001b[0m\n",
      "\u001b[0;32m~/Dropbox/mac/thinkpad/research1/sharecost17/raga_computation_local/simulation2/profit_optimization_core.py\u001b[0m in \u001b[0;36mget_incremental_penalty\u001b[0;34m(x, customers, idx, degradation_multiplier, support_v, k_bar)\u001b[0m\n\u001b[1;32m    321\u001b[0m \t\t\tterm2ub)\n\u001b[1;32m    322\u001b[0m \u001b[0;34m\u001b[0m\u001b[0m\n\u001b[0;32m--> 323\u001b[0;31m         \u001b[0;32massert\u001b[0m \u001b[0mterm1nr\u001b[0m\u001b[0;34m[\u001b[0m\u001b[0;36m0\u001b[0m\u001b[0;34m]\u001b[0m \u001b[0;34m-\u001b[0m \u001b[0mterm2nr\u001b[0m\u001b[0;34m[\u001b[0m\u001b[0;36m0\u001b[0m\u001b[0;34m]\u001b[0m \u001b[0;34m>=\u001b[0m \u001b[0;36m0\u001b[0m\u001b[0;34m\u001b[0m\u001b[0m\n\u001b[0m\u001b[1;32m    324\u001b[0m         \u001b[0mprint\u001b[0m\u001b[0;34m(\u001b[0m\u001b[0;34m'term1'\u001b[0m\u001b[0;34m,\u001b[0m\u001b[0mterm1nr\u001b[0m\u001b[0;34m[\u001b[0m\u001b[0;36m0\u001b[0m\u001b[0;34m]\u001b[0m\u001b[0;34m,\u001b[0m\u001b[0;34m'term1'\u001b[0m\u001b[0;34m,\u001b[0m\u001b[0mterm2nr\u001b[0m\u001b[0;34m[\u001b[0m\u001b[0;36m0\u001b[0m\u001b[0;34m]\u001b[0m\u001b[0;34m,\u001b[0m\u001b[0;34m'denominator'\u001b[0m\u001b[0;34m,\u001b[0m\u001b[0mprob_pool_val\u001b[0m\u001b[0;34m)\u001b[0m\u001b[0;34m\u001b[0m\u001b[0m\n\u001b[1;32m    325\u001b[0m         \u001b[0mexpected_ex_post_penalty\u001b[0m \u001b[0;34m=\u001b[0m \u001b[0;34m(\u001b[0m\u001b[0mterm1nr\u001b[0m\u001b[0;34m[\u001b[0m\u001b[0;36m0\u001b[0m\u001b[0;34m]\u001b[0m \u001b[0;34m-\u001b[0m \u001b[0mterm2nr\u001b[0m\u001b[0;34m[\u001b[0m\u001b[0;36m0\u001b[0m\u001b[0;34m]\u001b[0m\u001b[0;34m)\u001b[0m\u001b[0;34m/\u001b[0m\u001b[0;34m(\u001b[0m\u001b[0mprob_pool_val\u001b[0m \u001b[0;34m+\u001b[0m \u001b[0;36m1e-8\u001b[0m\u001b[0;34m)\u001b[0m \u001b[0;31m#HARDCODE\u001b[0m\u001b[0;34m\u001b[0m\u001b[0m\n",
      "\u001b[0;31mAssertionError\u001b[0m: "
     ]
    }
   ],
   "source": [
    "run -i profit_optimization_core.py"
   ]
  },
  {
   "cell_type": "code",
   "execution_count": 6,
   "metadata": {},
   "outputs": [],
   "source": [
    "# import matplotlib.pyplot as plt\n",
    "# plt.matshow(incremental_profit_j_surface)\n",
    "# from matplotlib.pyplot import imshow, pcolor\n",
    "# pcolor(incremental_profit_j_surface)\n",
    "# import pandas as pd\n",
    "# temp1 = incremental_profit_j_surface\n",
    "# temp = pd.DataFrame(data=temp1)    \n",
    "# temp.to_csv('uselessincrp.csv', sep=',', encoding='utf-8')"
   ]
  },
  {
   "cell_type": "code",
   "execution_count": 9,
   "metadata": {},
   "outputs": [
    {
     "name": "stderr",
     "output_type": "stream",
     "text": [
      "/home/theja/miniconda3/lib/python3.6/site-packages/matplotlib/figure.py:459: UserWarning: matplotlib is currently using a non-GUI backend, so cannot show the figure\n",
      "  \"matplotlib is currently using a non-GUI backend, \"\n"
     ]
    },
    {
     "data": {
      "image/png": "[encoded data removed]",
      "text/plain": [
       "<Figure size 432x288 with 2 Axes>"
      ]
     },
     "metadata": {},
     "output_type": "display_data"
    }
   ],
   "source": [
    "import pandas as pd\n",
    "customer_j = len(customers)\n",
    "k_delta_bar = customers[customer_j]['k_delta_bar']\n",
    "c_op =\tparams['c_op']\n",
    "p_x_max =\tparams['p_x_max_per_mile']*customers[customer_j]['sd']\n",
    "gridsearch_num = params['gridsearch_num']\n",
    "px_lb = c_op*customers[customer_j]['sd']\n",
    "px_ub = p_x_max\n",
    "ps_lb = 0\n",
    "ps_ub = k_delta_bar*px_ub\n",
    "px_gridvals = np.linspace(px_lb,px_ub,num=gridsearch_num)\n",
    "ps_gridvals = np.linspace(ps_lb,ps_ub,num=gridsearch_num)\n",
    "\n",
    "temp1 = incremental_profit_j_surface\n",
    "temp1b = pd.DataFrame(data=temp1,index=['%.3f'%(x) for x in px_gridvals],columns=['%.3f'%(x) for x  in ps_gridvals])\n",
    "ax = sns.heatmap(temp1b, cmap=\"YlGnBu\")#,vmin=-.2,vmax=.9)\n",
    "fig = ax.get_figure()\n",
    "fig.show()"
   ]
  },
  {
   "cell_type": "code",
   "execution_count": 2,
   "metadata": {},
   "outputs": [
    {
     "data": {
      "image/png": "[encoded data removed]",
      "text/plain": [
       "<Figure size 432x288 with 1 Axes>"
      ]
     },
     "metadata": {},
     "output_type": "display_data"
    }
   ],
   "source": [
    "#customer locations\n",
    "import numpy as np\n",
    "import matplotlib.pyplot as plt\n",
    "x = []\n",
    "y = []\n",
    "for idx in customers:\n",
    "    x.append(customers[idx]['s'][0])\n",
    "    y.append(customers[idx]['s'][1])\n",
    "    x.append(customers[idx]['d'][0])\n",
    "    y.append(customers[idx]['d'][1])\n",
    "plt.scatter(x, y)\n",
    "plt.show()"
   ]
  },
  {
   "cell_type": "code",
   "execution_count": 17,
   "metadata": {},
   "outputs": [
    {
     "name": "stdout",
     "output_type": "stream",
     "text": [
      "0.55\n"
     ]
    }
   ],
   "source": [
    "p_x_candidate = phi_v_inv(params['c_op'],params['support_v'])\n",
    "print(p_x_candidate)"
   ]
  },
  {
   "cell_type": "code",
   "execution_count": 18,
   "metadata": {},
   "outputs": [
    {
     "name": "stdout",
     "output_type": "stream",
     "text": [
      "0.165510492279\n",
      "prbx,probp,incrpex,incpp,expp 0.356273690421 0 0.464559962547 0.340180215346 0.000675351629805\n"
     ]
    }
   ],
   "source": [
    "k_bar = params['k_bar']\n",
    "support_v = params['support_v']\n",
    "degradation_multiplier = params['degradation_multiplier']\n",
    "EEPP_coeff = params['EEPP_coeff']\n",
    "t_j = 1\n",
    "profit = get_incremental_profit_adding_j([p_x_candidate,k_delta_bar*p_x_candidate],\n",
    "                                         customers,c_op,support_v,\n",
    "                                         degradation_multiplier,EEPP_coeff,t_j,k_bar)\n",
    "print(profit)\n",
    "(prob_exclusive_val,prob_pool_val,\n",
    " incr_profit_exclusive_val,incr_profit_pool_val,\n",
    " expost_penalty_sum) = get_incremental_profit_adding_j_components([p_x_candidate,k_delta_bar*p_x_candidate],\n",
    "                                                                  customers,c_op,support_v,\n",
    "                                                                  degradation_multiplier,EEPP_coeff,t_j,k_bar)\n",
    "print('prbx,probp,incrpex,incpp,expp',prob_exclusive_val,prob_pool_val,incr_profit_exclusive_val,incr_profit_pool_val,expost_penalty_sum)"
   ]
  },
  {
   "cell_type": "code",
   "execution_count": 13,
   "metadata": {},
   "outputs": [
    {
     "name": "stdout",
     "output_type": "stream",
     "text": [
      "0.173016075843\n"
     ]
    }
   ],
   "source": [
    "\n",
    "print(get_incremental_profit_adding_j([0.4699202059924642,0.39943217509359458],\n",
    "                                         customers,c_op,support_v,\n",
    "                                         degradation_multiplier,EEPP_coeff,t_j,k_bar))"
   ]
  },
  {
   "cell_type": "code",
   "execution_count": 14,
   "metadata": {},
   "outputs": [
    {
     "data": {
      "text/plain": [
       "0.3994321750935946"
      ]
     },
     "execution_count": 14,
     "metadata": {},
     "output_type": "execute_result"
    }
   ],
   "source": [
    "0.4699202059924642*.85"
   ]
  },
  {
   "cell_type": "code",
   "execution_count": 15,
   "metadata": {},
   "outputs": [
    {
     "data": {
      "text/plain": [
       "0.17301607584255002"
      ]
     },
     "execution_count": 15,
     "metadata": {},
     "output_type": "execute_result"
    }
   ],
   "source": [
    ".45*0.384480168539"
   ]
  },
  {
   "cell_type": "code",
   "execution_count": 20,
   "metadata": {},
   "outputs": [
    {
     "data": {
      "text/plain": [
       "-0.8"
      ]
     },
     "execution_count": 20,
     "metadata": {},
     "output_type": "execute_result"
    }
   ],
   "source": [
    "phi(c_op,support_v)"
   ]
  },
  {
   "cell_type": "code",
   "execution_count": null,
   "metadata": {},
   "outputs": [],
   "source": []
  }
 ],
 "metadata": {
  "kernelspec": {
   "display_name": "Python 3",
   "language": "python",
   "name": "python3"
  },
  "language_info": {
   "codemirror_mode": {
    "name": "ipython",
    "version": 3
   },
   "file_extension": ".py",
   "mimetype": "text/x-python",
   "name": "python",
   "nbconvert_exporter": "python",
   "pygments_lexer": "ipython3",
   "version": "3.6.5"
  }
 },
 "nbformat": 4,
 "nbformat_minor": 2
}
